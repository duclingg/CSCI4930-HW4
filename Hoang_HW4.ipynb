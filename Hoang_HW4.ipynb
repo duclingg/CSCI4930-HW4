{
 "cells": [
  {
   "cell_type": "markdown",
   "id": "b944c253",
   "metadata": {},
   "source": [
    "# HW4\n",
    "CSCI 4930  \n",
    "Justin Hoang  "
   ]
  },
  {
   "cell_type": "markdown",
   "id": "e723c271",
   "metadata": {},
   "source": [
    "## Reading the Dataset"
   ]
  },
  {
   "cell_type": "code",
   "execution_count": 1,
   "id": "7ce5e6cc",
   "metadata": {},
   "outputs": [],
   "source": [
    "import pandas as pd"
   ]
  },
  {
   "cell_type": "code",
   "execution_count": 2,
   "id": "f3102b42",
   "metadata": {},
   "outputs": [
    {
     "name": "stderr",
     "output_type": "stream",
     "text": [
      "/var/folders/pt/_3pv06z57s3_j0w3tq9l60p80000gn/T/ipykernel_22606/3642716612.py:1: ParserWarning: Falling back to the 'python' engine because the 'c' engine does not support regex separators (separators > 1 char and different from '\\s+' are interpreted as regex); you can avoid this warning by specifying engine='python'.\n",
      "  data = pd.read_csv('spiral-dataset.csv', index_col=None, sep=r'\\s', header=None)\n"
     ]
    },
    {
     "data": {
      "application/vnd.microsoft.datawrangler.viewer.v0+json": {
       "columns": [
        {
         "name": "index",
         "rawType": "int64",
         "type": "integer"
        },
        {
         "name": "x",
         "rawType": "float64",
         "type": "float"
        },
        {
         "name": "y",
         "rawType": "float64",
         "type": "float"
        },
        {
         "name": "target",
         "rawType": "int64",
         "type": "integer"
        }
       ],
       "conversionMethod": "pd.DataFrame",
       "ref": "566daef8-3069-4899-960d-a9d94472e0dd",
       "rows": [
        [
         "0",
         "31.95",
         "7.95",
         "3"
        ],
        [
         "1",
         "31.15",
         "7.3",
         "3"
        ],
        [
         "2",
         "30.45",
         "6.65",
         "3"
        ],
        [
         "3",
         "29.7",
         "6.0",
         "3"
        ],
        [
         "4",
         "28.9",
         "5.55",
         "3"
        ]
       ],
       "shape": {
        "columns": 3,
        "rows": 5
       }
      },
      "text/html": [
       "<div>\n",
       "<style scoped>\n",
       "    .dataframe tbody tr th:only-of-type {\n",
       "        vertical-align: middle;\n",
       "    }\n",
       "\n",
       "    .dataframe tbody tr th {\n",
       "        vertical-align: top;\n",
       "    }\n",
       "\n",
       "    .dataframe thead th {\n",
       "        text-align: right;\n",
       "    }\n",
       "</style>\n",
       "<table border=\"1\" class=\"dataframe\">\n",
       "  <thead>\n",
       "    <tr style=\"text-align: right;\">\n",
       "      <th></th>\n",
       "      <th>x</th>\n",
       "      <th>y</th>\n",
       "      <th>target</th>\n",
       "    </tr>\n",
       "  </thead>\n",
       "  <tbody>\n",
       "    <tr>\n",
       "      <th>0</th>\n",
       "      <td>31.95</td>\n",
       "      <td>7.95</td>\n",
       "      <td>3</td>\n",
       "    </tr>\n",
       "    <tr>\n",
       "      <th>1</th>\n",
       "      <td>31.15</td>\n",
       "      <td>7.30</td>\n",
       "      <td>3</td>\n",
       "    </tr>\n",
       "    <tr>\n",
       "      <th>2</th>\n",
       "      <td>30.45</td>\n",
       "      <td>6.65</td>\n",
       "      <td>3</td>\n",
       "    </tr>\n",
       "    <tr>\n",
       "      <th>3</th>\n",
       "      <td>29.70</td>\n",
       "      <td>6.00</td>\n",
       "      <td>3</td>\n",
       "    </tr>\n",
       "    <tr>\n",
       "      <th>4</th>\n",
       "      <td>28.90</td>\n",
       "      <td>5.55</td>\n",
       "      <td>3</td>\n",
       "    </tr>\n",
       "  </tbody>\n",
       "</table>\n",
       "</div>"
      ],
      "text/plain": [
       "       x     y  target\n",
       "0  31.95  7.95       3\n",
       "1  31.15  7.30       3\n",
       "2  30.45  6.65       3\n",
       "3  29.70  6.00       3\n",
       "4  28.90  5.55       3"
      ]
     },
     "execution_count": 2,
     "metadata": {},
     "output_type": "execute_result"
    }
   ],
   "source": [
    "data = pd.read_csv('spiral-dataset.csv', index_col=None, sep=r'\\s', header=None)\n",
    "data.columns = ['x', 'y', 'target']\n",
    "\n",
    "data.head()"
   ]
  },
  {
   "cell_type": "code",
   "execution_count": 1,
   "id": "ce6fde6d",
   "metadata": {},
   "outputs": [],
   "source": [
    "import numpy as np"
   ]
  },
  {
   "cell_type": "markdown",
   "id": "dbdd5d45",
   "metadata": {},
   "source": [
    "### Calculate Euclidean Distance Function"
   ]
  },
  {
   "cell_type": "code",
   "execution_count": 3,
   "id": "607f815b",
   "metadata": {},
   "outputs": [],
   "source": [
    "# euclidean distance - sqrt of sum squared\n",
    "def euclidean_distance(p1, p2):\n",
    "    return np.sqrt(np.sum(p1 - p2) ** 2)"
   ]
  },
  {
   "cell_type": "markdown",
   "id": "00b7f55e",
   "metadata": {},
   "source": [
    "### Create Distance Matrix Function"
   ]
  },
  {
   "cell_type": "code",
   "execution_count": 4,
   "id": "e3caa69e",
   "metadata": {},
   "outputs": [],
   "source": [
    "# distance matrix\n",
    "def distance_matrix(data):\n",
    "    n = len(data)\n",
    "    \n",
    "    dist_matrix = np.zeros((n,n))\n",
    "    \n",
    "    for i in range(n):\n",
    "        for k in range(n):\n",
    "            dist = euclidean_distance(data[i], data[k])\n",
    "            dist_matrix[i, k] = dist\n",
    "            dist_matrix[k, i] = dist\n",
    "            \n",
    "    return dist_matrix"
   ]
  },
  {
   "cell_type": "markdown",
   "id": "2528be87",
   "metadata": {},
   "source": [
    "### Plot Data Function"
   ]
  },
  {
   "cell_type": "code",
   "execution_count": 5,
   "id": "28acc7b0",
   "metadata": {},
   "outputs": [],
   "source": [
    "def plot_data(name, clusters):\n",
    "    cluster_data_x = [[], [], []]\n",
    "    cluster_data_y = [[], [], []]\n",
    "    \n",
    "    # data points\n",
    "    for i in clusters[0]:\n",
    "        data = dataset[i]\n",
    "        cluster_data_x[0].append(data[0])\n",
    "        cluster_data_y[0].append(data[1])\n",
    "        \n",
    "    for i in clusters[1]:\n",
    "        data = dataset[i]\n",
    "        cluster_data_x[1].append(data[0])\n",
    "        cluster_data_y[1].append(data[1])\n",
    "        \n",
    "    for i in clusters[2]:\n",
    "        data = dataset[i]\n",
    "        cluster_data_x[2].append(data[0])\n",
    "        cluster_data_y[2].append(data[1])\n",
    "        \n",
    "    return cluster_data_x, cluster_data_y"
   ]
  },
  {
   "cell_type": "markdown",
   "id": "329bfc46",
   "metadata": {},
   "source": [
    "### Create Linkage Clustering Function\n"
   ]
  }
 ],
 "metadata": {
  "kernelspec": {
   "display_name": ".venv",
   "language": "python",
   "name": "python3"
  },
  "language_info": {
   "codemirror_mode": {
    "name": "ipython",
    "version": 3
   },
   "file_extension": ".py",
   "mimetype": "text/x-python",
   "name": "python",
   "nbconvert_exporter": "python",
   "pygments_lexer": "ipython3",
   "version": "3.11.5"
  }
 },
 "nbformat": 4,
 "nbformat_minor": 5
}
